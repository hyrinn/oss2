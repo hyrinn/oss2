{
  "nbformat": 4,
  "nbformat_minor": 0,
  "metadata": {
    "colab": {
      "provenance": [],
      "authorship_tag": "ABX9TyNHVQA573SwQI1Jq20G6483",
      "include_colab_link": true
    },
    "kernelspec": {
      "name": "python3",
      "display_name": "Python 3"
    },
    "language_info": {
      "name": "python"
    }
  },
  "cells": [
    {
      "cell_type": "markdown",
      "metadata": {
        "id": "view-in-github",
        "colab_type": "text"
      },
      "source": [
        "<a href=\"https://colab.research.google.com/github/hyrinn/oss2/blob/main/%EC%9E%90%EB%A3%8C%EA%B5%AC%EC%A1%B0_%EC%9E%AC%EA%B7%80.ipynb\" target=\"_parent\"><img src=\"https://colab.research.google.com/assets/colab-badge.svg\" alt=\"Open In Colab\"/></a>"
      ]
    },
    {
      "cell_type": "code",
      "execution_count": null,
      "metadata": {
        "colab": {
          "base_uri": "https://localhost:8080/"
        },
        "id": "lRlfPVOqEcDT",
        "outputId": "29a41fc1-b64c-464c-fce4-2e82f4dc07a2"
      },
      "outputs": [
        {
          "output_type": "stream",
          "name": "stdout",
          "text": [
            "4's element \\ 6\"s element\n"
          ]
        }
      ],
      "source": [
        "#리스트 - 문자열\n",
        "print(\"4\\'s element \\\\ 6\\\"s element\")"
      ]
    },
    {
      "cell_type": "code",
      "source": [
        "for i in range(10) :\n",
        "  print(i, end = ' ')"
      ],
      "metadata": {
        "colab": {
          "base_uri": "https://localhost:8080/"
        },
        "id": "EWc177tvFrzt",
        "outputId": "680ae9a0-fc29-49ac-833a-90cc36df0e42"
      },
      "execution_count": null,
      "outputs": [
        {
          "output_type": "stream",
          "name": "stdout",
          "text": [
            "0 1 2 3 4 5 6 7 8 9 "
          ]
        }
      ]
    },
    {
      "cell_type": "code",
      "source": [
        "for i in range(4,10,2):\n",
        "  print(i, end = ' ')"
      ],
      "metadata": {
        "colab": {
          "base_uri": "https://localhost:8080/"
        },
        "id": "BsjzxkuoGHYn",
        "outputId": "50ac90f0-25b3-42c9-bd81-1f79c78b313e"
      },
      "execution_count": null,
      "outputs": [
        {
          "output_type": "stream",
          "name": "stdout",
          "text": [
            "4 6 8 "
          ]
        }
      ]
    },
    {
      "cell_type": "code",
      "source": [
        "for i in range(10,4,-2):\n",
        "  print(i, end = ' ')"
      ],
      "metadata": {
        "colab": {
          "base_uri": "https://localhost:8080/"
        },
        "id": "yJ1390mjGMrq",
        "outputId": "ae3315aa-bb1d-40d9-caa9-18dea61e900d"
      },
      "execution_count": null,
      "outputs": [
        {
          "output_type": "stream",
          "name": "stdout",
          "text": [
            "10 8 6 "
          ]
        }
      ]
    },
    {
      "cell_type": "code",
      "source": [
        "#리스트 1 -> 가변 타입\n",
        "for i in [0,1,2,3]: #리스트[0,1,2,3]에 속하는 모든 원소 i에 대해\n",
        "  print(i, end = ' ')"
      ],
      "metadata": {
        "colab": {
          "base_uri": "https://localhost:8080/"
        },
        "id": "6k7dwqXGGZsV",
        "outputId": "54ac498c-18fe-457e-991c-537d1d7b85bc"
      },
      "execution_count": null,
      "outputs": [
        {
          "output_type": "stream",
          "name": "stdout",
          "text": [
            "0 1 2 3 "
          ]
        }
      ]
    },
    {
      "cell_type": "markdown",
      "source": [
        "### 튜플 -> 불변속성 자료\n",
        "* 변경을 시도할 경우 오류 생김\n",
        "* 기호는 (..) 이렇게 사용하고, 리스트 기호는 [..] 을 사용\n",
        "* 딕셔너리의 키는 불변, 값은 가변\n"
      ],
      "metadata": {
        "id": "RMHHiG_MfW8v"
      }
    },
    {
      "cell_type": "code",
      "source": [
        "#튜플\n",
        "for i in (0,1,2,3):\n",
        "  print(i, end = ' ')"
      ],
      "metadata": {
        "colab": {
          "base_uri": "https://localhost:8080/"
        },
        "id": "6wu1da9RGsag",
        "outputId": "f2d23255-3538-4f9e-ba0b-28ff2022cc74"
      },
      "execution_count": null,
      "outputs": [
        {
          "output_type": "stream",
          "name": "stdout",
          "text": [
            "0 1 2 3 "
          ]
        }
      ]
    },
    {
      "cell_type": "code",
      "source": [
        "#리스트 2\n",
        "s = [0,1,2,3]\n",
        "for i in s:\n",
        "  print(i, end = ' ') #원소 하나씩 나오게 하기 위해 for문 사용해야함\n",
        "\n",
        "print(s, end = ' ') #for문 안쓰면 리스트형식으로 나옴"
      ],
      "metadata": {
        "colab": {
          "base_uri": "https://localhost:8080/"
        },
        "id": "b7kJp23BHIGU",
        "outputId": "bae40ce0-ff7d-43ad-d37e-928d38668eee"
      },
      "execution_count": null,
      "outputs": [
        {
          "output_type": "stream",
          "name": "stdout",
          "text": [
            "0 1 2 3 [0, 1, 2, 3] "
          ]
        }
      ]
    },
    {
      "cell_type": "code",
      "source": [
        "#딕셔너리\n",
        "d = {1:10, 2:20, 3:30, 10:40}\n",
        "for i in d:\n",
        "  print(i, ':', d[i], end = ', ')"
      ],
      "metadata": {
        "colab": {
          "base_uri": "https://localhost:8080/"
        },
        "id": "5z_DAT4nHROX",
        "outputId": "7aceea22-113b-4b00-cadf-8687bad1c20c"
      },
      "execution_count": null,
      "outputs": [
        {
          "output_type": "stream",
          "name": "stdout",
          "text": [
            "1 : 10, 2 : 20, 3 : 30, 10 : 40, "
          ]
        }
      ]
    },
    {
      "cell_type": "markdown",
      "source": [
        "###집합 -> 동일한 값을 가지는 항목의 중복 허용 X\n",
        "* 집합의 항목은 *순서가 없기 때문에*  인덱스를 가지고 접근 x -> for문을 이용해서 접근해야함 \n",
        "\n",
        "\n",
        "\n"
      ],
      "metadata": {
        "id": "_2MvgxmSl6sr"
      }
    },
    {
      "cell_type": "code",
      "source": [
        "#집합\n",
        "for  i in {1,2,3,10}:\n",
        "  print(i, end = ' ')\n"
      ],
      "metadata": {
        "colab": {
          "base_uri": "https://localhost:8080/"
        },
        "id": "e2VmgH3YIEwx",
        "outputId": "2ccdc0a5-d97e-4a19-b1b2-e961a6380ac0"
      },
      "execution_count": null,
      "outputs": [
        {
          "output_type": "stream",
          "name": "stdout",
          "text": [
            "3 1 10 2 "
          ]
        }
      ]
    },
    {
      "cell_type": "code",
      "source": [
        "#집합 예시\n",
        "set([1,2,3,1,2])"
      ],
      "metadata": {
        "colab": {
          "base_uri": "https://localhost:8080/"
        },
        "id": "zm8Sv_Z_gNFW",
        "outputId": "b9589ba2-389e-47fb-a000-7a6ce367882d"
      },
      "execution_count": null,
      "outputs": [
        {
          "output_type": "execute_result",
          "data": {
            "text/plain": [
              "{1, 2, 3}"
            ]
          },
          "metadata": {},
          "execution_count": 23
        }
      ]
    },
    {
      "cell_type": "code",
      "source": [
        "#집합 예시\n",
        "a = {1,3,5,7}\n",
        "a.add(3) #이미 a 집합에 3이 있기 때문에 아무 영향력 x\n",
        "a.add(10)\n",
        "print(a)"
      ],
      "metadata": {
        "colab": {
          "base_uri": "https://localhost:8080/"
        },
        "id": "OkNiq-ilmhvZ",
        "outputId": "79f57145-05dd-4866-96b0-823af4f7513b"
      },
      "execution_count": null,
      "outputs": [
        {
          "output_type": "stream",
          "name": "stdout",
          "text": [
            "{1, 3, 5, 7, 10}\n"
          ]
        }
      ]
    },
    {
      "cell_type": "code",
      "source": [
        "#문자열 = 불변 타입\n",
        "for i in 'testseq' :\n",
        "  print(i, end = '-')"
      ],
      "metadata": {
        "colab": {
          "base_uri": "https://localhost:8080/"
        },
        "id": "97ILa8udIwnG",
        "outputId": "939178eb-f2cc-4d17-8398-7eecb20c33bf"
      },
      "execution_count": null,
      "outputs": [
        {
          "output_type": "stream",
          "name": "stdout",
          "text": [
            "t-e-s-t-s-e-q-"
          ]
        }
      ]
    },
    {
      "cell_type": "code",
      "source": [
        "#문자열\n",
        "s = 'test'\n",
        "s = 'train'\n",
        "print(s)"
      ],
      "metadata": {
        "colab": {
          "base_uri": "https://localhost:8080/"
        },
        "id": "KBit_IheI6PD",
        "outputId": "68ff8c44-55fd-49f6-fb40-af3cd52d0c4c"
      },
      "execution_count": null,
      "outputs": [
        {
          "output_type": "stream",
          "name": "stdout",
          "text": [
            "train\n"
          ]
        }
      ]
    },
    {
      "cell_type": "markdown",
      "source": [
        "## 클래스\n",
        "* 파이썬 -> 객체 지향 언어\n",
        "* 메서드 -> 클래스 안에서 정의된 함수 (\\_\\_init\\_\\_() : 생성자 )\n",
        "* 생성자 -> 해당 클래스의 객체가 하나 만들어질 때 자동으로 수행되어 객체를 초기화하는    특별한 메서드"
      ],
      "metadata": {
        "id": "lm644FAfn_iy"
      }
    },
    {
      "cell_type": "code",
      "source": [
        "class Sample:\n",
        "  def __init__(self):\n",
        "    self.counter= 0\n",
        "  def numEven(self, n):\n",
        "    for k in range(n):\n",
        "      if k % 2 ==0:\n",
        "        self.counter += 1\n",
        "    return self.counter\n",
        "\n",
        "s=Sample()\n",
        "print('# of enen integers =', s.numEven(15))"
      ],
      "metadata": {
        "colab": {
          "base_uri": "https://localhost:8080/"
        },
        "id": "VtYZYMprCt_N",
        "outputId": "ac02df99-2b60-4ab8-a937-41a9932450e2"
      },
      "execution_count": null,
      "outputs": [
        {
          "output_type": "stream",
          "name": "stdout",
          "text": [
            "# of enen integers = 8\n"
          ]
        }
      ]
    },
    {
      "cell_type": "code",
      "source": [
        "class Sample:\n",
        "  counter2 =0\n",
        "  def __init__(self):\n",
        "    self.counter= 0\n",
        "  def numEven(self, n):\n",
        "    for k in range(n):\n",
        "      if k % 2 == 0:\n",
        "        self.counter += 1\n",
        "        Sample.counter2 += 1\n",
        "    return self.counter\n",
        "\n",
        "s1= Sample()\n",
        "s2= Sample()\n",
        "s1.numEven(15)\n",
        "s2.numEven(15)\n",
        "print(s1.counter, s1.counter2, Sample.counter2)"
      ],
      "metadata": {
        "colab": {
          "base_uri": "https://localhost:8080/"
        },
        "id": "wG-5cgNrDZ_x",
        "outputId": "bcdc1777-f7c8-4d2d-ac48-f379a1f536e1"
      },
      "execution_count": null,
      "outputs": [
        {
          "output_type": "stream",
          "name": "stdout",
          "text": [
            "8 16 16\n"
          ]
        }
      ]
    },
    {
      "cell_type": "markdown",
      "source": [
        "## 리스트\n",
        "* 리스트는 가변타입 : 내용을 바꾸더라도 참조하는 자리는 불변⭐️\n",
        "\n"
      ],
      "metadata": {
        "id": "Yk__FUFDAPJX"
      }
    },
    {
      "cell_type": "code",
      "source": [
        "pop(i) # 리스트의의 i번 원소를 삭제하면서 알려준다.\n",
        "index(x) # 원소 x가 리스트의 몇 번 원소인지 알려준다.\n",
        "count(x) # 리스트에서 원소 x가 몇 번 나타나는지 알려준다."
      ],
      "metadata": {
        "id": "8Erqmu3EFkvf",
        "colab": {
          "base_uri": "https://localhost:8080/",
          "height": 198
        },
        "outputId": "c0869e97-b24b-4407-a384-b8e6c64953d5"
      },
      "execution_count": null,
      "outputs": [
        {
          "output_type": "error",
          "ename": "NameError",
          "evalue": "ignored",
          "traceback": [
            "\u001b[0;31m---------------------------------------------------------------------------\u001b[0m",
            "\u001b[0;31mNameError\u001b[0m                                 Traceback (most recent call last)",
            "\u001b[0;32m<ipython-input-32-e5d37736c335>\u001b[0m in \u001b[0;36m<module>\u001b[0;34m\u001b[0m\n\u001b[0;32m----> 1\u001b[0;31m \u001b[0mpop\u001b[0m\u001b[0;34m(\u001b[0m\u001b[0mi\u001b[0m\u001b[0;34m)\u001b[0m \u001b[0;31m# 리스트의의 i번 원소를 삭제하면서 알려준다.\u001b[0m\u001b[0;34m\u001b[0m\u001b[0;34m\u001b[0m\u001b[0m\n\u001b[0m\u001b[1;32m      2\u001b[0m \u001b[0mindex\u001b[0m\u001b[0;34m(\u001b[0m\u001b[0mx\u001b[0m\u001b[0;34m)\u001b[0m \u001b[0;31m# 원소 x가 리스트의 몇 번 원소인지 알려준다.\u001b[0m\u001b[0;34m\u001b[0m\u001b[0;34m\u001b[0m\u001b[0m\n\u001b[1;32m      3\u001b[0m \u001b[0mcount\u001b[0m\u001b[0;34m(\u001b[0m\u001b[0mx\u001b[0m\u001b[0;34m)\u001b[0m \u001b[0;31m# 리스트에서 원소 x가 몇 번 나타나는지 알려준다.\u001b[0m\u001b[0;34m\u001b[0m\u001b[0;34m\u001b[0m\u001b[0m\n",
            "\u001b[0;31mNameError\u001b[0m: name 'pop' is not defined"
          ]
        }
      ]
    },
    {
      "cell_type": "markdown",
      "source": [
        "## 복사\n",
        "  1. 복사호출 : 변수의 값을 리턴 , 함수의 파라미터가 불변타입일 때 사용\n",
        "  2. 참조호출 : 변수의 파라미터가 가변타입일 때 사용\n",
        "  3. 할당호출 \n"
      ],
      "metadata": {
        "id": "54tdtRggBLtW"
      }
    },
    {
      "cell_type": "code",
      "source": [],
      "metadata": {
        "id": "xBsAe0srqWc-"
      },
      "execution_count": null,
      "outputs": []
    }
  ]
}